{
  "nbformat": 4,
  "nbformat_minor": 0,
  "metadata": {
    "colab": {
      "provenance": []
    },
    "kernelspec": {
      "name": "python3",
      "display_name": "Python 3"
    },
    "language_info": {
      "name": "python"
    }
  },
  "cells": [
    {
      "cell_type": "markdown",
      "source": [
        "# ***Files, exceptional handling,*** ***logging and memory*** ***management***\n",
        "\n",
        "---\n",
        "\n"
      ],
      "metadata": {
        "id": "1JaCa_UdKhbj"
      }
    },
    {
      "cell_type": "markdown",
      "source": [
        "### *Assignment Questions*\n",
        "\n",
        "---\n",
        "\n"
      ],
      "metadata": {
        "id": "dTnpBSmmLafB"
      }
    },
    {
      "cell_type": "markdown",
      "source": [
        "1. What is the difference between interpreted and compiled languages ?        \n",
        "    ans = Interpreted Languages:\n",
        "1) Code is executed directly from the source code, line by line.\n",
        "2) No separate compilation step is required.\n",
        "3) Generally slower than compiled languages.\n",
        "\n",
        "     Compiled Languages:\n",
        "1) Code is first translated into machine code by a compiler and then executed.\n",
        "2) Requires a separate compilation step.\n",
        "3) Generally faster than interpreted languages."
      ],
      "metadata": {
        "id": "oGGi3YYHLjYm"
      }
    },
    {
      "cell_type": "markdown",
      "source": [
        "2. What is exception handling in Python ?                                     \n",
        "    ans = Exception handling in Python is a mechanism to manage runtime errors. It involves using try, except, else, and finally blocks to gracefully handle exceptions. The try block encloses code that might raise an exception. If an exception occurs, the except block catches and handles it. The else block executes if no exceptions occur in the try block. The finally block always executes, regardless of whether an exception was raised."
      ],
      "metadata": {
        "id": "zdf_I8XsMksZ"
      }
    },
    {
      "cell_type": "markdown",
      "source": [
        "3. What is the purpose of the finally block in exception handling ?           \n",
        "   ans = The finally block exception handling is designed to execute code that always run, regardless of whether an exception was raised or caught. It provides a mechanism for cleanup actions, such as releasing resources or closing files, ensuring that these tasks are performed even if errors occur during the execution of the try block."
      ],
      "metadata": {
        "id": "JIMTHte3NgUG"
      }
    },
    {
      "cell_type": "markdown",
      "source": [
        "4. What is logging in Python ?                                                \n",
        " ans =  1) it record the state and flow of your program , code , software .  \n",
        "   2)it is useful for understanding , monitoring and debugging of your code .  \n",
        "    3) it show how program behave over time."
      ],
      "metadata": {
        "id": "zuaMOqY9Ngsx"
      }
    },
    {
      "cell_type": "markdown",
      "source": [
        "5. What is the significance of the __del__ method in Python ?                 \n",
        " ans = The __del__ method in Python, also known as a destructor, is called when an object is garbage collected, after all references to it have been deleted. It provides an opportunity to clean up resources that the object may have been using, such as closing files or releasing external connections."
      ],
      "metadata": {
        "id": "JzuCoAulNhF6"
      }
    },
    {
      "cell_type": "markdown",
      "source": [
        "6. What is the difference between import and from ... import in Python ?      \n",
        " ans = 1) import >>It's immediately clear where a function or object  is coming from, reducing potential name collisions if different modules have functions with the same name , It keeps the global namespace cleaner by only adding the module's name, rather than all its individual members.                         \n",
        "  2)... import >>When you use from module_name import object_name(s), specific objects from the module are imported directly into the current namespace. These objects can then be used without prefixing them with the module name."
      ],
      "metadata": {
        "id": "AnSUBc8qQTfN"
      }
    },
    {
      "cell_type": "markdown",
      "source": [
        "7. How can you handle multiple exceptions in Python ?                         \n",
        "    ans = 1) Generally something that disrup the normal event is exption .     \n",
        "     2) In python an exception is an event that occurs during program excutied that disrupts the regular flow of code .                               \n",
        "      3)Multiple exceptions can be caught in a single except block by specifying them as a tuple. This is suitable when the same handling is needed for different exceptions."
      ],
      "metadata": {
        "id": "X1yoPpnMTQKL"
      }
    },
    {
      "cell_type": "markdown",
      "source": [
        "8.  What is the purpose of the with statement when handling files in Python ?           \n",
        "ans =  with statement in Python serves to streamline resource management, particularly in file handling. It ensures that files are properly closed after their operations are complete, even if errors or exceptions occur during the process. This mechanism prevents resource leaks and simplifies code by automating the cleanup process that would otherwise require explicit handling within try...finally blocks."
      ],
      "metadata": {
        "id": "fMnS25UX7Xcp"
      }
    },
    {
      "cell_type": "markdown",
      "source": [
        "9. What is the difference between multithreading and multiprocessing ?        \n",
        "     ans = 1) multithreading a)>> scienceit happen on one processer , threads show . b) same memory space and resource use thing a process like data , variable .\n",
        "      \n",
        "      2) multiprocessing a)>> multiple cores cores / process are there each process has its own . b) memory space and resources which are isolated from other process."
      ],
      "metadata": {
        "id": "nhLQduPc8U6d"
      }
    },
    {
      "cell_type": "markdown",
      "source": [
        "10. What are the advantages of using logging in a program ?                   \n",
        "    ans = Logging in a program offers numerous benefits, primarily for debugging and troubleshooting by tracing execution and pinpointing errors. It's vital for monitoring program health and performance, providing insights for optimization. For security and compliance, logging serves as an audit trail, recording significant events. In production, it enables post-mortem analysis of crashes and allows for non-invasive diagnostics to resolve user-reported issues."
      ],
      "metadata": {
        "id": "sdWdi9SI_aSz"
      }
    },
    {
      "cell_type": "markdown",
      "source": [
        "11. What is memory management in Python ?                                     \n",
        " ans = Python's memory management aims to free developers from the burden of manual memory handling, reducing the risk of memory leaks and improving development speed, albeit sometimes at the cost of slightly less direct control or raw speed compared to lower-level languages."
      ],
      "metadata": {
        "id": "uhj-R3QzAsAw"
      }
    },
    {
      "cell_type": "markdown",
      "source": [
        "12. What are the basic steps involved in exception handling in Python ?       \n",
        "      ans = The basic steps in Python exception handling involve using a try block for code that might raise an error. If an exception occurs, execution jumps to an except block, which catches and handles specific error types. An optional else block runs if no exception occurs in try, and a finally block always executes for cleanup, regardless of whether an exception was raised or handled."
      ],
      "metadata": {
        "id": "gBnPNIQXE8Kw"
      }
    },
    {
      "cell_type": "markdown",
      "source": [
        "13. Why is memory management important in Python ?                              \n",
        "    ans = while Python abstracts away much of the low-level memory handling, the underlying efficiency and correctness of its memory management system are fundamental to developing robust, performant, and scalable Python applications. Developers need to understand its principles to write code that cooperates effectively with the memory manager and avoids common pitfalls."
      ],
      "metadata": {
        "id": "px20erPPFNlR"
      }
    },
    {
      "cell_type": "markdown",
      "source": [
        "14. What is the role of try and except in exception handling ?                \n",
        "   ans = The primary role of the try block is to enclose a section of code that is susceptible to raising exceptions . Python monitors the code within the try block. If an exception occurs at any point inside this block, the normal execution of the try block immediately stops. control is transferred from the try block to the appropriate except block that can handle the specific type of exception raised. If no matching except block is found, the exception propagates up the call stack"
      ],
      "metadata": {
        "id": "mfvfEc8pFeeG"
      }
    },
    {
      "cell_type": "markdown",
      "source": [
        "15.  How does Python's garbage collection system work ?                       \n",
        "   ans = Python primarily uses reference counting for efficient, immediate memory reclamation. For the more complex problem of circular references, it employs a generational garbage collector that periodically identifies and frees unreachable cyclic data structures. This two-pronged approach provides robust and generally efficient automatic memory management."
      ],
      "metadata": {
        "id": "QNbXAavHF9l-"
      }
    },
    {
      "cell_type": "markdown",
      "source": [
        "16. What is the purpose of the else block in exception handling ?             \n",
        "   ans = The else block is executed only if the code inside the try block completes successfully without raising any exceptions.It helps in separating code that should run if an exception occurs from code that should run only if no exception occurs. This improves readability and logical flow.Instead of putting all the \"success\" code directly after the try block"
      ],
      "metadata": {
        "id": "QeIM0IVcGL_Y"
      }
    },
    {
      "cell_type": "markdown",
      "source": [
        "17. What are the common logging levels in Python ?                            \n",
        "  ans = Python's logging module provides a set of standard logging levels, each indicating a different severity or importance of the event being logged. These levels allow you to filter messages based on their importance,When you configure the logging module, you set a \"minimum level\" for a logger or handler.\n",
        "  "
      ],
      "metadata": {
        "id": "rHDSkFS_GlpX"
      }
    },
    {
      "cell_type": "markdown",
      "source": [
        "18. What is the difference between os.fork() and multiprocessing in Python ?  \n",
        "    ans = 1) os.fork() is a function that creates a new process (the child process) that is a duplicate of the calling process (the parent process). After fork(), both processes continue execution from the point of the fork() call.   \n",
        "      2) multiprocessing\n",
        "  Python's multiprocessing module is a cross-platform package that supports spawning processes using an API similar to the threading module. It allows you to run multiple processes, each with its own Python interpreter and memory space."
      ],
      "metadata": {
        "id": "-n_fdQ6hHC_l"
      }
    },
    {
      "cell_type": "markdown",
      "source": [
        "19. What is the importance of closing a file in Python ?                      \n",
        "  ans = Closing a file in Python is vital to save data (flushing buffers), release system resources (like file descriptors), prevent data corruption, and ensure file availability for other operations. It promotes reliability by not relying on implicit cleanup. The with statement is the recommended best practice for automatic and safe file closure."
      ],
      "metadata": {
        "id": "gJmEVCenHrbg"
      }
    },
    {
      "cell_type": "markdown",
      "source": [
        "20. What is the difference between file.read() and file.readline() in Python?             \n",
        "    ans = 1) file.read()>> Reads the entire content of the file or a specified number of characters/bytes. If size is omitted or negative , it reads the entire content of the file from the current position until the end, returning it as a single string (for text mode) or bytes object\n",
        "  \n",
        "  2)file.readline() >>Reads a single line from the file. It reads characters from the file until it encounters a newline character (\\n), reaches the end of the file, or reads size bytes/characters (if size is provided).\n",
        "    "
      ],
      "metadata": {
        "id": "dO8nCz9hH7RU"
      }
    },
    {
      "cell_type": "markdown",
      "source": [
        "21. What is the logging module in Python used for ?                           \n",
        "  ans = The logging module is a powerful and flexible standard library module that provides a standardized way to emit log messages from applications and libraries. Its primary purpose is to help developers and system administrators understand the flow of events in a running program, diagnose problems, and monitor the application's behavior without requiring direct interaction or debugging."
      ],
      "metadata": {
        "id": "kXN49730JFGI"
      }
    },
    {
      "cell_type": "markdown",
      "source": [
        "22. What is the os module in Python used for in file handling ?               \n",
        "   ans = The os module in Python provides a way of using operating system dependent functionality, such as reading or writing to the file system. While Python's built-in open function and file object methods like read, write, close.  handle the actual content manipulation of files, the os module is crucial for interacting with the file system itself, rather than just the content of individual files."
      ],
      "metadata": {
        "id": "k9Nnbbp5JeSa"
      }
    },
    {
      "cell_type": "markdown",
      "source": [
        "23. What are the challenges associated with memory management in Python ?     \n",
        "   ans =  Python handles the low-level details of memory management, developers still face challenges related to reference cycles, higher memory footprint, debugging logical leaks, and the lack of explicit deallocation control. Awareness of these challenges and employing best practices (like with statements and efficient data structures) are key to writing robust and performant Python applications."
      ],
      "metadata": {
        "id": "TxDG7OHEJ24G"
      }
    },
    {
      "cell_type": "markdown",
      "source": [
        "24.  How do you raise an exception manually in Python ?                       \n",
        "  ans = To manually raise an exception in Python, use the raise keyword followed by an exception type (either built-in or custom) and an optional descriptive error message. This is done to signal errors, validate input, design APIs, and control program flow in exceptional situations."
      ],
      "metadata": {
        "id": "5f_CgY0qKXSi"
      }
    },
    {
      "cell_type": "markdown",
      "source": [
        "25. Why is it important to use multithreading in certain applications ?       \n",
        "  ans = multithreading is particularly important in Python for maintaining application responsiveness (especially UIs and servers) and efficiently handling I/O-bound operations by overlapping waiting times, despite the limitations imposed by the Global Interpreter Lock for CPU-bound parallelism. It also offers a simpler way to structure certain concurrent logic when shared memory is beneficial."
      ],
      "metadata": {
        "id": "4CKoqO-5KWZS"
      }
    },
    {
      "cell_type": "markdown",
      "source": [
        "# ***Practical Questions***\n",
        "\n",
        "---\n",
        "\n"
      ],
      "metadata": {
        "id": "3AgcwjxKLV0q"
      }
    },
    {
      "cell_type": "markdown",
      "source": [
        "1.  How can you open a file for writing in Python and write a string to it"
      ],
      "metadata": {
        "id": "pbu-cbHCLdCI"
      }
    },
    {
      "cell_type": "code",
      "source": [
        "with open(\"my_file.txt\", \"w\") as file:\n",
        "    file.write(\"This is a string.\\n\")\n",
        "    file.write(\"my name is piyush\")\n",
        "\n",
        "print(\"Content written to 'my_file.txt'.\")"
      ],
      "metadata": {
        "id": "t4QqrjlqLiHE",
        "colab": {
          "base_uri": "https://localhost:8080/"
        },
        "outputId": "2a911545-53ec-4a8b-eee8-0487c55cadcf"
      },
      "execution_count": null,
      "outputs": [
        {
          "output_type": "stream",
          "name": "stdout",
          "text": [
            "Content written to 'my_file.txt'.\n"
          ]
        }
      ]
    },
    {
      "cell_type": "markdown",
      "source": [
        "2. Write a Python program to read the contents of a file and print each line"
      ],
      "metadata": {
        "id": "iseJtuZqLJ4V"
      }
    },
    {
      "cell_type": "code",
      "source": [
        "with open(\"my_file.txt\", \"r\") as file:\n",
        "  data = file.read()\n",
        "print(data)"
      ],
      "metadata": {
        "id": "-K9h1-YVLaDf",
        "colab": {
          "base_uri": "https://localhost:8080/"
        },
        "outputId": "6834cafc-48fd-483a-f315-fe74fe2cf929"
      },
      "execution_count": null,
      "outputs": [
        {
          "output_type": "stream",
          "name": "stdout",
          "text": [
            "This is a string.\n",
            "my name is piyush\n"
          ]
        }
      ]
    },
    {
      "cell_type": "markdown",
      "source": [
        "3. How would you handle a case where the file doesn't exist while trying to open it for reading?"
      ],
      "metadata": {
        "id": "Kk4ukUgMOKuB"
      }
    },
    {
      "cell_type": "code",
      "execution_count": null,
      "metadata": {
        "id": "Hcxl7MgfKdDe",
        "colab": {
          "base_uri": "https://localhost:8080/"
        },
        "outputId": "a1a9bceb-69b7-49f6-8314-a4921273ce94"
      },
      "outputs": [
        {
          "output_type": "stream",
          "name": "stdout",
          "text": [
            "Error: The specified file was not found.\n"
          ]
        }
      ],
      "source": [
        "try:\n",
        "    with open('my_file2.txt', 'r') as f:\n",
        "        content = f.read()\n",
        "        print(content)\n",
        "except FileNotFoundError:\n",
        "    print(\"Error: The specified file was not found.\")"
      ]
    },
    {
      "cell_type": "markdown",
      "source": [
        "4. Write a Python script that reads from one file and writes its content to another file"
      ],
      "metadata": {
        "id": "YHgBTyd1PKxx"
      }
    },
    {
      "cell_type": "code",
      "source": [
        "source_file = 'input.txt'\n",
        "destination_file = 'output.txt'\n",
        "\n",
        "try:\n",
        "    with open(source_file, 'r') as infile:\n",
        "        content = infile.read()\n",
        "\n",
        "    with open(destination_file, 'w') as outfile:\n",
        "        outfile.write(content)\n",
        "\n",
        "    print(f\"Content copied from '{source_file}' to '{destination_file}'.\")\n",
        "\n",
        "except FileNotFoundError:\n",
        "    print(f\"Error: Source file '{source_file}' not found.\")\n",
        "except Exception as e:\n",
        "    print(f\"An error occurred: {e}\")\n"
      ],
      "metadata": {
        "colab": {
          "base_uri": "https://localhost:8080/"
        },
        "id": "-CBK4f9GO9-f",
        "outputId": "744efbf3-e936-452f-ac16-109492701c68"
      },
      "execution_count": null,
      "outputs": [
        {
          "output_type": "stream",
          "name": "stdout",
          "text": [
            "Error: Source file 'input.txt' not found.\n"
          ]
        }
      ]
    },
    {
      "cell_type": "markdown",
      "source": [
        "5.How would you catch and handle division by zero error in Python?\n"
      ],
      "metadata": {
        "id": "BWLs7ePXRGgd"
      }
    },
    {
      "cell_type": "code",
      "source": [
        "numerator = 10\n",
        "denominator = 0\n",
        "\n",
        "try:\n",
        "    result = numerator / denominator\n",
        "    print(f\"Result: {result}\")\n",
        "except ZeroDivisionError:\n",
        "    print(\"Error: Division by zero is not allowed.\")\n",
        "except Exception as e:\n",
        "    print(f\"An unexpected error occurred: {e}\")"
      ],
      "metadata": {
        "id": "u7uWR_GoP05F",
        "colab": {
          "base_uri": "https://localhost:8080/"
        },
        "outputId": "faf1831c-af24-485d-9cab-5e1ff3a62d44"
      },
      "execution_count": 12,
      "outputs": [
        {
          "output_type": "stream",
          "name": "stdout",
          "text": [
            "Error: Division by zero is not allowed.\n"
          ]
        }
      ]
    },
    {
      "cell_type": "markdown",
      "source": [
        "6. Write a Python program that logs an error message to a log file when a division by zero exception occurs."
      ],
      "metadata": {
        "id": "XWWm7Mw5S2b_"
      }
    },
    {
      "cell_type": "code",
      "source": [
        "import logging\n",
        "import os\n",
        "\n",
        "LOG_FILE = 'division_errors.log'\n",
        "\n",
        "# Configure logging: Set level to ERROR, specify file, and append mode\n",
        "logging.basicConfig(\n",
        "    filename=LOG_FILE,\n",
        "    level=logging.ERROR,\n",
        "    format='%(asctime)s - %(levelname)s - %(message)s',\n",
        "    filemode='a'\n",
        ")\n",
        "\n",
        "def divide(a, b):\n",
        "    try:\n",
        "        result = a / b\n",
        "        print(f\"{a} / {b} = {result}\")\n",
        "        return result\n",
        "    except ZeroDivisionError:\n",
        "        error_msg = f\"Attempted division by zero: {a} / {b}\"\n",
        "        logging.error(error_msg) # Log the error\n",
        "        print(f\"Error: {error_msg} (logged to '{LOG_FILE}')\")\n",
        "        return None"
      ],
      "metadata": {
        "id": "S9_kYGYsSxNt"
      },
      "execution_count": 14,
      "outputs": []
    },
    {
      "cell_type": "code",
      "source": [
        "\n",
        "print(\"--- Running examples ---\")\n",
        "divide(10, 2)\n",
        "divide(5, 0)\n",
        "divide(100, 10)\n",
        "divide(7, 0)\n",
        "\n",
        "print(f\"\\nCheck the file '{LOG_FILE}' for error logs.\")\n"
      ],
      "metadata": {
        "colab": {
          "base_uri": "https://localhost:8080/"
        },
        "id": "0tWEAyHgTPhO",
        "outputId": "9a427fb8-3dd0-4809-df0d-b220ea1a413e"
      },
      "execution_count": 19,
      "outputs": [
        {
          "output_type": "stream",
          "name": "stderr",
          "text": [
            "ERROR:root:Attempted division by zero: 5 / 0\n",
            "ERROR:root:Attempted division by zero: 7 / 0\n"
          ]
        },
        {
          "output_type": "stream",
          "name": "stdout",
          "text": [
            "--- Running examples ---\n",
            "10 / 2 = 5.0\n",
            "Error: Attempted division by zero: 5 / 0 (logged to 'multi_level_log.log')\n",
            "100 / 10 = 10.0\n",
            "Error: Attempted division by zero: 7 / 0 (logged to 'multi_level_log.log')\n",
            "\n",
            "Check the file 'multi_level_log.log' for error logs.\n"
          ]
        }
      ]
    },
    {
      "cell_type": "markdown",
      "source": [
        "7. How do you log information at different levels (INFO, ERROR, WARNING) in Python using the logging module ?"
      ],
      "metadata": {
        "id": "eXk1g0B8TxtY"
      }
    },
    {
      "cell_type": "code",
      "source": [
        "import logging\n",
        "import os\n",
        "\n",
        "LOG_FILE = 'multi_level_log.log'\n",
        "\n",
        "if os.path.exists(LOG_FILE):\n",
        "    os.remove(LOG_FILE)\n",
        "\n",
        "logging.basicConfig(\n",
        "    filename=LOG_FILE,\n",
        "    level=logging.DEBUG,\n",
        "    format='%(asctime)s - %(levelname)s - %(message)s',\n",
        "    filemode='a'\n",
        ")\n",
        "\n",
        "# --- Log messages at different levels ---\n",
        "logging.debug(\"This is a DEBUG message. Very detailed info.\")\n",
        "logging.info(\"This is an INFO message. General operational info.\")\n",
        "logging.warning(\"This is a WARNING message. Something unexpected happened.\")\n",
        "logging.error(\"This is an ERROR message. A problem prevented a function.\")\n",
        "\n",
        "print(f\"Log messages written to '{LOG_FILE}'. Check the file to see different levels.\")\n"
      ],
      "metadata": {
        "colab": {
          "base_uri": "https://localhost:8080/"
        },
        "id": "KXiAtRuOTZ8E",
        "outputId": "c4d67d12-0f19-45f0-c6af-276a64943ff3"
      },
      "execution_count": 20,
      "outputs": [
        {
          "output_type": "stream",
          "name": "stderr",
          "text": [
            "WARNING:root:This is a WARNING message. Something unexpected happened.\n",
            "ERROR:root:This is an ERROR message. A problem prevented a function.\n"
          ]
        },
        {
          "output_type": "stream",
          "name": "stdout",
          "text": [
            "Log messages written to 'multi_level_log.log'. Check the file to see different levels.\n"
          ]
        }
      ]
    },
    {
      "cell_type": "markdown",
      "source": [
        "8. Write a program to handle a file opening error using exception handling ?"
      ],
      "metadata": {
        "id": "BEutBWV2UkM2"
      }
    },
    {
      "cell_type": "code",
      "source": [
        "filename = \"my_notes.txt\" # This is the file we'll try to open\n",
        "\n",
        "try:\n",
        "    # Try to open the file for reading ('r')\n",
        "    with open(filename, 'r') as file:\n",
        "        content = file.read()\n",
        "        print(f\"Success! I found '{filename}'. Here's what's inside:\")\n",
        "        print(content)\n",
        "except FileNotFoundError:\n",
        "    # If the file doesn't exist, this message will show\n",
        "    print(f\"Oops! I couldn't find '{filename}'. Make sure it's in the same folder.\")\n",
        "\n",
        ""
      ],
      "metadata": {
        "colab": {
          "base_uri": "https://localhost:8080/"
        },
        "id": "43Z8bfESUECI",
        "outputId": "2d65ab8f-e1e5-4474-ce30-d1efdd556695"
      },
      "execution_count": 24,
      "outputs": [
        {
          "output_type": "stream",
          "name": "stdout",
          "text": [
            "Oops! I couldn't find 'my_notes.txt'. Make sure it's in the same folder.\n"
          ]
        }
      ]
    },
    {
      "cell_type": "markdown",
      "source": [
        "9. How can you read a file line by line and store its content in a list in Python ?"
      ],
      "metadata": {
        "id": "mOzXAdLpWppD"
      }
    },
    {
      "cell_type": "code",
      "source": [
        "def read_file_to_list(filepath):\n",
        "\n",
        "    lines = []\n",
        "    try:\n",
        "        with open(filepath, 'r') as file:\n",
        "            for line in file:\n",
        "                lines.append(line.strip())\n",
        "    except FileNotFoundError:\n",
        "        print(f\"Error: The file '{filepath}' was not found.\")\n",
        "    return lines\n",
        "\n",
        "# Example\n",
        "# C\n",
        "with open(\"my_notes.txt\", \"w\") as f:\n",
        "    f.write(\"First line of notes.\\n\")\n",
        "    f.write(\"And a third one.\")\n",
        "\n",
        "file_path = \"my_notes.txt\"\n",
        "file_content_list = read_file_to_list(file_path)\n",
        "\n",
        "if file_content_list:\n",
        "    print(\"File content as a list:\")\n",
        "    for item in file_content_list:\n",
        "        print(item)"
      ],
      "metadata": {
        "colab": {
          "base_uri": "https://localhost:8080/"
        },
        "id": "bzdaa9E8WPqo",
        "outputId": "0078d7db-43ea-4ce7-f520-df337a7b38f8"
      },
      "execution_count": 25,
      "outputs": [
        {
          "output_type": "stream",
          "name": "stdout",
          "text": [
            "File content as a list:\n",
            "First line of notes.\n",
            "And a third one.\n"
          ]
        }
      ]
    },
    {
      "cell_type": "markdown",
      "source": [
        "10. How can you append data to an existing file in Python ?"
      ],
      "metadata": {
        "id": "8LziL6cRXowz"
      }
    },
    {
      "cell_type": "code",
      "source": [
        "\n",
        "with open(\"my_shopping_list.txt\", \"w\") as file:\n",
        "    file.write(\"Milk\\n\")\n",
        "    file.write(\"Bread\\n\")\n",
        "\n",
        "print(\"--- Original file content ---\")\n",
        "with open(\"my_shopping_list.txt\", \"r\") as file:\n",
        "    print(file.read())\n",
        "print(\"-----------------------------\\n\")\n",
        "\n",
        "\n",
        "with open(\"my_shopping_list.txt\", \"a\") as file:\n",
        "    file.write(\"Eggs\\n\")  # Add \"Eggs\"\n",
        "    file.write(\"Cheese\\n\") # Add \"Cheese\"\n",
        "\n",
        "print(\"--- File content AFTER appending ---\")\n",
        "with open(\"my_shopping_list.txt\", \"r\") as file:\n",
        "    print(file.read())\n"
      ],
      "metadata": {
        "colab": {
          "base_uri": "https://localhost:8080/"
        },
        "id": "Yn5YKPQ8XnF8",
        "outputId": "35df2b49-34c8-44d8-dcee-8704df8f71ea"
      },
      "execution_count": 28,
      "outputs": [
        {
          "output_type": "stream",
          "name": "stdout",
          "text": [
            "--- Original file content ---\n",
            "Milk\n",
            "Bread\n",
            "\n",
            "-----------------------------\n",
            "\n",
            "--- File content AFTER appending ---\n",
            "Milk\n",
            "Bread\n",
            "Eggs\n",
            "Cheese\n",
            "\n"
          ]
        }
      ]
    },
    {
      "cell_type": "markdown",
      "source": [
        "11. Write a Python program that uses a try-except block to handle an error when attempting to access a\n",
        "dictionary key that doesn't exist."
      ],
      "metadata": {
        "id": "idLiRsXsYlEO"
      }
    },
    {
      "cell_type": "code",
      "source": [
        "\n",
        "my_dictionary = {\n",
        "    \"name\": \"piyush\",\n",
        "    \"age\": 18,\n",
        "    \"city\": \"jalgoan\"\n",
        "}\n",
        "print(\" Attempting to access an existing key \")\n",
        "try:\n",
        "    print(f\"Name: {my_dictionary['name']}\")\n",
        "except KeyError:\n",
        "    print(\"Error: The key 'name' does not exist.\")\n",
        "print(\"-\" * 18)\n",
        "\n",
        "# Example  key that DOES NOT exist\n",
        "print(\" Attempting to access a non-existent key\")\n",
        "try:\n",
        "    print(f\"Country: {my_dictionary['country']}\")\n",
        "except KeyError:\n",
        "    print(\"Error: The key 'country' does not exist in the dictionary.\")\n",
        "except Exception as e: # A more general exception for other potential errors\n",
        "    print(f\"An unexpected error occurred: {e}\")\n",
        "print(\"-\" * 18)\n",
        "\n",
        "print(\"\\nProgram continues after error handling.\")"
      ],
      "metadata": {
        "colab": {
          "base_uri": "https://localhost:8080/"
        },
        "id": "qqelDQmKYVYd",
        "outputId": "ec230afb-e224-48e6-a5ef-bf63cd9ac0bc"
      },
      "execution_count": 29,
      "outputs": [
        {
          "output_type": "stream",
          "name": "stdout",
          "text": [
            " Attempting to access an existing key \n",
            "Name: piyush\n",
            "------------------\n",
            " Attempting to access a non-existent key\n",
            "Error: The key 'country' does not exist in the dictionary.\n",
            "------------------\n",
            "\n",
            "Program continues after error handling.\n"
          ]
        }
      ]
    },
    {
      "cell_type": "markdown",
      "source": [
        "12. Write a program that demonstrates using multiple except blocks to handle different types of exceptions?"
      ],
      "metadata": {
        "id": "ZCQs14wTb2Jr"
      }
    },
    {
      "cell_type": "code",
      "source": [
        "def demonstrate_multiple_exceptions(value):\n",
        "    try:\n",
        "        if value == \"convert_error\":\n",
        "            int(\"not a number\")\n",
        "        elif value == \"list_index_error\":\n",
        "            my_list = [10, 20]\n",
        "            print(my_list[5])\n",
        "        elif value == \"zero_division\":\n",
        "            result = 10 / 0\n",
        "        else:\n",
        "            print(f\"No specific error simulated for value: {value}\")\n",
        "\n",
        "    except ZeroDivisionError:\n",
        "        print(\"Caught a ZeroDivisionError: You attempted to divide a number by zero, which is mathematically impossible.\")\n",
        "    except Exception as e:\n",
        "        print(f\"Caught an unexpected error: {e}\")\n",
        "    finally:\n",
        "        # The finally block always executes, regardless of whether an exception occurred or not.\n",
        "        print(\"--- End of try-except block ---\")\n",
        "\n",
        "\n",
        "print(\"\\n--- Testing with a ZeroDivisionError scenario ---\")\n",
        "demonstrate_multiple_exceptions(\"zero_division\")\n",
        "\n",
        "print(\"\\n--- Testing with no error ---\")\n",
        "demonstrate_multiple_exceptions(\"no_error\")"
      ],
      "metadata": {
        "colab": {
          "base_uri": "https://localhost:8080/"
        },
        "id": "l_SsyGrIcVmP",
        "outputId": "4b70d62c-dcff-415f-b3ee-85454b593dce"
      },
      "execution_count": 36,
      "outputs": [
        {
          "output_type": "stream",
          "name": "stdout",
          "text": [
            "\n",
            "--- Testing with a ZeroDivisionError scenario ---\n",
            "Caught a ZeroDivisionError: You attempted to divide a number by zero, which is mathematically impossible.\n",
            "--- End of try-except block ---\n",
            "\n",
            "--- Testing with no error ---\n",
            "No specific error simulated for value: no_error\n",
            "--- End of try-except block ---\n"
          ]
        }
      ]
    },
    {
      "cell_type": "markdown",
      "source": [
        "13. How would you check if a file exists before attempting to read it in Python?"
      ],
      "metadata": {
        "id": "IsbCNEwvdSw0"
      }
    },
    {
      "cell_type": "code",
      "source": [
        "\n",
        "\n",
        "import os\n",
        "\n",
        "def check_and_read_file(filename):\n",
        "    print(f\"--- Attempting to read '{filename}' ---\")\n",
        "\n",
        "    if os.path.exists(filename):\n",
        "        print(f\"File '{filename}' exists. Attempting to read...\")\n",
        "        try:\n",
        "            # Open the file in read mode ('r')\n",
        "            with open(filename, 'r') as file:\n",
        "                content = file.read()\n",
        "                print(\"File content:\")\n",
        "                print(content)\n",
        "        except IOError: # Catch potential input/output errors during reading\n",
        "            print(f\"Error: Could not read file '{filename}'.\")\n",
        "        except Exception as e: # Catch any other unexpected errors\n",
        "            print(f\"An unexpected error occurred while reading: {e}\")\n",
        "    else:\n",
        "        print(f\"File '{filename}' does NOT exist. Cannot read.\")\n",
        "    print(\"-\" * 30)\n",
        "\n",
        "# --- Create a dummy file for testing existence ---\n",
        "# Let's create a file that we know exists\n",
        "with open(\"my_existing_file.txt\", \"w\") as f:\n",
        "    f.write(\"Hello from an existing file!\\n\")\n",
        "    f.write(\"This file was created for testing.\")\n",
        "\n",
        "# --- Test cases ---\n",
        "\n",
        "# 1. Test with a file that exists\n",
        "check_and_read_file(\"my_existing_file.txt\")\n",
        "\n",
        "# 2. Test with a file that does not exist\n",
        "check_and_read_file(\"non_existent_file.txt\")\n",
        "\n",
        "# --- Clean up the dummy file (optional, but good practice) ---\n",
        "os.remove(\"my_existing_file.txt\")\n",
        "print(\"Cleaned up 'my_existing_file.txt'\")"
      ],
      "metadata": {
        "colab": {
          "base_uri": "https://localhost:8080/"
        },
        "id": "fdcJTsuwc3Qv",
        "outputId": "cda730d3-2207-4c9e-adee-022c213a1659"
      },
      "execution_count": 37,
      "outputs": [
        {
          "output_type": "stream",
          "name": "stdout",
          "text": [
            "--- Attempting to read 'my_existing_file.txt' ---\n",
            "File 'my_existing_file.txt' exists. Attempting to read...\n",
            "File content:\n",
            "Hello from an existing file!\n",
            "This file was created for testing.\n",
            "------------------------------\n",
            "--- Attempting to read 'non_existent_file.txt' ---\n",
            "File 'non_existent_file.txt' does NOT exist. Cannot read.\n",
            "------------------------------\n",
            "Cleaned up 'my_existing_file.txt'\n"
          ]
        }
      ]
    },
    {
      "cell_type": "markdown",
      "source": [
        "14. Write a program that uses the logging module to log both informational and error messages?"
      ],
      "metadata": {
        "id": "JC-uCQhkdxla"
      }
    },
    {
      "cell_type": "code",
      "source": [
        "\n",
        "\n",
        "import logging\n",
        "logging.basicConfig(filename='my_application.log', level=logging.INFO,\n",
        "                    format='%(asctime)s - %(levelname)s - %(message)s')\n",
        "\n",
        "def perform_operation(value):\n",
        "    #\n",
        "    logging.info(f\"Attempting to perform operation with value: {value}\")\n",
        "\n",
        "    try:\n",
        "        if value > 100:\n",
        "\n",
        "            logging.warning(f\"Value {value} is very high, processing with caution.\")\n",
        "            result = value / 2\n",
        "        elif value == 0:\n",
        "\n",
        "            raise ValueError(\"Value cannot be zero for this operation.\")\n",
        "        else:\n",
        "            result = value * 2\n",
        "        logging.info(f\"Operation successful. Result: {result}\")\n",
        "        return result\n",
        "    except ValueError as e:\n",
        "        # Log an error message if an exception occurs\n",
        "        logging.error(f\"Error encountered during operation: {e}\")\n",
        "        return None\n",
        "    except Exception as e:\n",
        "        # Catch any other unexpected errors and log them as critical\n",
        "        logging.critical(f\"A critical unexpected error occurred: {e}\")\n",
        "        return None\n",
        "\n",
        "# --- Demonstrate logging different message types ---\n",
        "\n",
        "print(\"--- Running tests. Check 'my_application.log' file. ---\")\n",
        "\n",
        "perform_operation(50)\n",
        "perform_operation(150)\n",
        "perform_operation(0)\n",
        "perform_operation(\"text\")\n",
        "print(\"\\nFinished. Check the 'my_application.log' file in the same directory.\")"
      ],
      "metadata": {
        "colab": {
          "base_uri": "https://localhost:8080/"
        },
        "id": "IEN40Ei3dk4y",
        "outputId": "7f53cd1c-ce33-4b4f-e8af-ec9bbd719dff"
      },
      "execution_count": 38,
      "outputs": [
        {
          "output_type": "stream",
          "name": "stderr",
          "text": [
            "WARNING:root:Value 150 is very high, processing with caution.\n",
            "ERROR:root:Error encountered during operation: Value cannot be zero for this operation.\n",
            "CRITICAL:root:A critical unexpected error occurred: '>' not supported between instances of 'str' and 'int'\n"
          ]
        },
        {
          "output_type": "stream",
          "name": "stdout",
          "text": [
            "--- Running tests. Check 'my_application.log' file. ---\n",
            "\n",
            "Finished. Check the 'my_application.log' file in the same directory.\n"
          ]
        }
      ]
    },
    {
      "cell_type": "markdown",
      "source": [
        "15. Write a Python program that prints the content of a file and handles the case when the file is empty"
      ],
      "metadata": {
        "id": "y420UK_2eQKM"
      }
    },
    {
      "cell_type": "code",
      "source": [],
      "metadata": {
        "id": "ijiFUQdMeodw"
      },
      "execution_count": null,
      "outputs": []
    },
    {
      "cell_type": "markdown",
      "source": [
        "16. Demonstrate how to use memory profiling to check the memory usage of a small program"
      ],
      "metadata": {
        "id": "5Eei6bHXe0Xn"
      }
    },
    {
      "cell_type": "code",
      "source": [
        "!pip install memory-profiler\n",
        "from memory_profiler import profile\n",
        "import time\n",
        "\n",
        "@profile\n",
        "def my_function():\n",
        "    a = [i for i in range(100)]  # Create a large list\n",
        "    b = [j * 2 for j in range(200)] # Create another large list\n",
        "    time.sleep(0.1) # Simulate some work\n",
        "    del a # Release memory for 'a'\n",
        "    time.sleep(0.1)\n",
        "    c = {\"key\": \"value\" * 100 for _ in range(500)} # Create a large dictionary\n",
        "    time.sleep(0.1)\n",
        "    return \"Done\"\n",
        "\n",
        "if __name__ == \"__main__\":\n",
        "    my_function()"
      ],
      "metadata": {
        "colab": {
          "base_uri": "https://localhost:8080/"
        },
        "id": "NL1aPlzme78E",
        "outputId": "82290313-38cd-49d3-faa5-4a07413bc7d9"
      },
      "execution_count": 43,
      "outputs": [
        {
          "output_type": "stream",
          "name": "stdout",
          "text": [
            "Requirement already satisfied: memory-profiler in /usr/local/lib/python3.11/dist-packages (0.61.0)\n",
            "Requirement already satisfied: psutil in /usr/local/lib/python3.11/dist-packages (from memory-profiler) (5.9.5)\n",
            "ERROR: Could not find file <ipython-input-43-188cea0b8c1d>\n",
            "NOTE: %mprun can only be used on functions defined in physical files, and not in the IPython environment.\n"
          ]
        }
      ]
    },
    {
      "cell_type": "markdown",
      "source": [
        "17. Write a Python program to create and write a list of numbers to a file, one number per line"
      ],
      "metadata": {
        "id": "Omb492nUfjWM"
      }
    },
    {
      "cell_type": "code",
      "source": [
        "def write_numbers_to_file_short(filename, numbers):\n",
        "    \"\"\"Writes a list of numbers to a file, one per line.\"\"\"\n",
        "    try:\n",
        "        with open(filename, 'w') as f:\n",
        "            f.write('\\n'.join(map(str, numbers)))\n",
        "        print(f\"Numbers written to '{filename}'\")\n",
        "    except IOError as e:\n",
        "        print(f\"Error writing to file: {e}\")\n",
        "\n",
        "# Example usage:\n",
        "write_numbers_to_file_short(\"numbers_short.txt\", [1, 2, 3, 4, 5])"
      ],
      "metadata": {
        "colab": {
          "base_uri": "https://localhost:8080/"
        },
        "id": "FRdab1cwfLk2",
        "outputId": "44009712-6318-4449-dede-6ee5f4aabb24"
      },
      "execution_count": 44,
      "outputs": [
        {
          "output_type": "stream",
          "name": "stdout",
          "text": [
            "Numbers written to 'numbers_short.txt'\n"
          ]
        }
      ]
    },
    {
      "cell_type": "markdown",
      "source": [
        "18. How would you implement a basic logging setup that logs to a file with rotation after 1MB ?"
      ],
      "metadata": {
        "id": "cgmv27JDfwX8"
      }
    },
    {
      "cell_type": "markdown",
      "source": [
        "19. Write a program that handles both IndexError and KeyError using a try-except block?"
      ],
      "metadata": {
        "id": "QsTPKUG5f4Xm"
      }
    },
    {
      "cell_type": "code",
      "source": [
        "def demonstrate_error_handling(data):\n",
        "    print(f\"\\n--- Testing data of type {type(data)} ---\")\n",
        "\n",
        "\n",
        "    try:\n",
        "        print(f\"Attempting to access index 1:\")\n",
        "    except IndexError:\n",
        "        print(\"  Caught IndexError: Index is out of bounds for the sequence.\")\n",
        "    except KeyError:\n",
        "        print(\"  Caught KeyError: Dictionary has no integer key '1'.\")\n",
        "    except TypeError:\n",
        "        print(\"  Caught TypeError: Data type does not support integer indexing.\")\n",
        "\n",
        "    try:\n",
        "        print(f\"Attempting to access key 'b':\")\n",
        "\n",
        "    except KeyError:\n",
        "        print(\"  Caught KeyError: Key 'b' not found in the mapping.\")\n",
        "    except IndexError:\n",
        "        print(\"  Caught IndexError: Cannot use string key as index for sequence.\")\n",
        "    except TypeError:\n",
        "        print(\"  Caught TypeError: Data type does not support string key access.\")\n",
        "\n",
        "# Test Cases\n",
        "demonstrate_error_handling([10, 20])\n",
        "demonstrate_error_handling([10])\n",
        "demonstrate_error_handling({'a': 1, 'b': 2})\n",
        "demonstrate_error_handling({'a': 1})\n",
        "\n",
        ""
      ],
      "metadata": {
        "colab": {
          "base_uri": "https://localhost:8080/"
        },
        "id": "P3VQ4yGJgBPN",
        "outputId": "08b9bf89-50b0-4115-c231-19091cefe454"
      },
      "execution_count": 59,
      "outputs": [
        {
          "output_type": "stream",
          "name": "stdout",
          "text": [
            "\n",
            "--- Testing data of type <class 'list'> ---\n",
            "Attempting to access index 1:\n",
            "Attempting to access key 'b':\n",
            "\n",
            "--- Testing data of type <class 'list'> ---\n",
            "Attempting to access index 1:\n",
            "Attempting to access key 'b':\n",
            "\n",
            "--- Testing data of type <class 'dict'> ---\n",
            "Attempting to access index 1:\n",
            "Attempting to access key 'b':\n",
            "\n",
            "--- Testing data of type <class 'dict'> ---\n",
            "Attempting to access index 1:\n",
            "Attempting to access key 'b':\n"
          ]
        }
      ]
    },
    {
      "cell_type": "markdown",
      "source": [
        "20. How would you open a file and read its contents using a context manager in Python ?\n"
      ],
      "metadata": {
        "id": "q6LQKxBWgB9e"
      }
    },
    {
      "cell_type": "code",
      "source": [
        "def demonstrate_error_handling(data):\n",
        "    try:\n",
        "        # Attempt to access an index (works for list, will fail for dict)\n",
        "        print(f\"Accessing index 1: {data[1]}\")\n",
        "    except IndexError:\n",
        "        print(\"Caught IndexError: Index is out of bounds.\")\n",
        "    except KeyError:\n",
        "        # This will be caught if data is a dict and data[1] is attempted\n",
        "        print(\"Caught KeyError: Dictionary has no integer key '1'.\")\n",
        "    except TypeError:\n",
        "        print(\"Caught TypeError: Data type does not support integer indexing in this way.\")\n",
        "\n",
        "\n",
        "    try:\n",
        "        print(f\"Accessing key 'b': {data['b']}\")\n",
        "    except KeyError:\n",
        "        print(\"Caught KeyError: Key 'b' not found.\")\n",
        "    except IndexError:\n",
        "        print(\"Caught IndexError: Cannot use string key for sequence.\")\n",
        "    except TypeError:\n",
        "        print(\"Caught TypeError: Data type does not support string key access.\")\n",
        "\n",
        "\n",
        "# --- Test Cases ---\n",
        "demonstrate_error_handling([10, 20])\n",
        "demonstrate_error_handling([10])\n",
        "demonstrate_error_handling({'a': 1, 'b': 2})\n",
        "demonstrate_error_handling({'a': 1})"
      ],
      "metadata": {
        "colab": {
          "base_uri": "https://localhost:8080/"
        },
        "id": "VjoyRN8PlQat",
        "outputId": "52f1c4c1-bfc4-4c84-ce7d-210129ea923a"
      },
      "execution_count": 65,
      "outputs": [
        {
          "output_type": "stream",
          "name": "stdout",
          "text": [
            "Accessing index 1: 20\n",
            "Caught TypeError: Data type does not support string key access.\n",
            "Caught IndexError: Index is out of bounds.\n",
            "Caught TypeError: Data type does not support string key access.\n",
            "Caught KeyError: Dictionary has no integer key '1'.\n",
            "Accessing key 'b': 2\n",
            "Caught KeyError: Dictionary has no integer key '1'.\n",
            "Caught KeyError: Key 'b' not found.\n"
          ]
        }
      ]
    },
    {
      "cell_type": "markdown",
      "source": [
        "21. Write a Python program that reads a file and prints the number of occurrences of a specific word ?"
      ],
      "metadata": {
        "id": "YvTmdHC1gH-_"
      }
    },
    {
      "cell_type": "code",
      "source": [
        "def count_word_short(filename, target_word):\n",
        "    \"\"\"Counts occurrences of a word in a file (case-insensitive).\"\"\"\n",
        "    try:\n",
        "        with open(filename, 'r') as f:\n",
        "            content = f.read().lower()\n",
        "            count = content.count(target_word.lower())\n",
        "            print(f\"'{target_word}' appears {count} times in '{filename}'.\")\n",
        "    except FileNotFoundError:\n",
        "        print(f\"Error: File '{filename}' not found.\")\n",
        "    except Exception as e:\n",
        "        print(f\"An error occurred: {e}\")\n",
        "\n",
        "# --- Example Usage ---\n",
        "# Create a dummy file\n",
        "with open(\"short_test.txt\", \"w\") as f:\n",
        "    f.write(\"Apple, Banana, apple, Orange. Apple.\")\n",
        "\n",
        "count_word_short(\"short_test.txt\", \"apple\")\n",
        "count_word_short(\"short_test.txt\", \"grape\")\n",
        "count_word_short(\"non_existent.txt\", \"test\")\n",
        "\n",
        "import os\n",
        "os.remove(\"short_test.txt\") # Clean up"
      ],
      "metadata": {
        "colab": {
          "base_uri": "https://localhost:8080/"
        },
        "id": "a1Z_0yxMgOKK",
        "outputId": "8c79c6d8-b2d7-4b09-e61f-926120a9098c"
      },
      "execution_count": 66,
      "outputs": [
        {
          "output_type": "stream",
          "name": "stdout",
          "text": [
            "'apple' appears 3 times in 'short_test.txt'.\n",
            "'grape' appears 0 times in 'short_test.txt'.\n",
            "Error: File 'non_existent.txt' not found.\n"
          ]
        }
      ]
    },
    {
      "cell_type": "markdown",
      "source": [
        "22. How can you check if a file is empty before attempting to read its contents ?"
      ],
      "metadata": {
        "id": "TZtgoBNigO-K"
      }
    },
    {
      "cell_type": "code",
      "source": [
        "import os\n",
        "\n",
        "def is_file_empty_short(filepath):\n",
        "    \"\"\"Checks if a file exists and is empty (0 bytes).\"\"\"\n",
        "    return os.path.exists(filepath) and os.path.getsize(filepath) == 0\n",
        "\n",
        "# --- Example Usage ---\n",
        "empty_file = \"empty_test.txt\"\n",
        "with open(empty_file, 'w'): pass # Create an empty file\n",
        "\n",
        "non_empty_file = \"non_empty_test.txt\"\n",
        "with open(non_empty_file, 'w') as f: f.write(\"Hello\")\n",
        "\n",
        "print(f\"'{empty_file}' is empty: {is_file_empty_short(empty_file)}\")\n",
        "print(f\"'{non_empty_file}' is empty: {is_file_empty_short(non_empty_file)}\")\n",
        "print(f\"'non_existent.txt' is empty: {is_file_empty_short('non_existent.txt')}\")\n",
        "\n",
        "os.remove(empty_file)\n",
        "os.remove(non_empty_file)"
      ],
      "metadata": {
        "colab": {
          "base_uri": "https://localhost:8080/"
        },
        "id": "Ua4H25DdgV6s",
        "outputId": "e616f0d9-4455-4275-87da-1ee4f1dc0ee7"
      },
      "execution_count": 67,
      "outputs": [
        {
          "output_type": "stream",
          "name": "stdout",
          "text": [
            "'empty_test.txt' is empty: True\n",
            "'non_empty_test.txt' is empty: False\n",
            "'non_existent.txt' is empty: False\n"
          ]
        }
      ]
    },
    {
      "cell_type": "markdown",
      "source": [
        "23. Write a Python program that writes to a log file when an error occurs during file handling."
      ],
      "metadata": {
        "id": "SP6GkMLCgWll"
      }
    },
    {
      "cell_type": "code",
      "source": [
        "import logging\n",
        "import os\n",
        "\n",
        "# Configure basic error logging to a file\n",
        "logging.basicConfig(\n",
        "    filename='error_log.txt',\n",
        "    level=logging.ERROR,\n",
        "    format='%(asctime)s - %(levelname)s - %(message)s'\n",
        ")\n",
        "\n",
        "def try_file_read(filepath):\n",
        "    \"\"\"Attempts to read a file, logging errors.\"\"\"\n",
        "    try:\n",
        "        with open(filepath, 'r') as f:\n",
        "            f.read() # Just read, no need to store for this demo\n",
        "        print(f\"Successfully processed '{filepath}'.\")\n",
        "    except FileNotFoundError:\n",
        "        logging.error(f\"File not found: '{filepath}'\")\n",
        "        print(f\"Error: '{filepath}' not found. Logged.\")\n",
        "    except Exception as e:\n",
        "        logging.error(f\"An unexpected error occurred with '{filepath}': {e}\")\n",
        "        print(f\"An unexpected error occurred with '{filepath}'. Logged.\")\n",
        "\n",
        "# Test Cases\n",
        "if os.path.exists('error_log.txt'): # Clean previous log\n",
        "    os.remove('error_log.txt')\n",
        "\n",
        "try_file_read(\"non_existent_file.xyz\") # Will cause an error and log it\n",
        "\n",
        "# Create a file to demonstrate success\n",
        "with open(\"temp_file.txt\", \"w\") as f:\n",
        "    f.write(\"Some content.\")\n",
        "try_file_read(\"temp_file.txt\")\n",
        "os.remove(\"temp_file.txt\")"
      ],
      "metadata": {
        "colab": {
          "base_uri": "https://localhost:8080/"
        },
        "id": "JJjZ2K2KgczH",
        "outputId": "4b7dbbe4-8616-4838-f1db-b8c553c24518"
      },
      "execution_count": 68,
      "outputs": [
        {
          "output_type": "stream",
          "name": "stderr",
          "text": [
            "ERROR:root:File not found: 'non_existent_file.xyz'\n"
          ]
        },
        {
          "output_type": "stream",
          "name": "stdout",
          "text": [
            "Error: 'non_existent_file.xyz' not found. Logged.\n",
            "Successfully processed 'temp_file.txt'.\n"
          ]
        }
      ]
    },
    {
      "cell_type": "code",
      "source": [],
      "metadata": {
        "id": "MIPXSgQlmTMf"
      },
      "execution_count": null,
      "outputs": []
    }
  ]
}